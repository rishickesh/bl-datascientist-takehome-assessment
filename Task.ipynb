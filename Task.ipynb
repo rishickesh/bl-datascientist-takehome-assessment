{
 "cells": [
  {
   "cell_type": "code",
   "execution_count": 160,
   "id": "211a3852",
   "metadata": {},
   "outputs": [],
   "source": [
    "#### Define class and the functionality\n",
    "class Task(object):\n",
    "    def strongPasswordCheck(self, password):\n",
    "        n = len(password) ### Find the length of the password\n",
    "\n",
    "        # a flag to keep note if the password has upper case, lower and digits\n",
    "        contains_upper = 0\n",
    "        contains_lower = 0\n",
    "        contains_digit = 0\n",
    "        contains_common_word = 0\n",
    "\n",
    "        #### REad the common word file and split the file by '/n' to get it as a set\n",
    "        set_of_words = {elt.strip() for elt in open(\"../data/common-passwords.txt\", \"r\").readlines()}\n",
    "        \n",
    "        #### Check if any of the common words i present in the list and get the count stored\n",
    "        for word in set_of_words:\n",
    "            contains_common_word = contains_common_word + password.count(word)\n",
    "\n",
    "        ### Check if the password has those values and change the flag\n",
    "        for c in password:\n",
    "            if not contains_upper and c.isupper():\n",
    "                contains_upper = 1\n",
    "            if not contains_lower and c.islower():\n",
    "                contains_lower = 1\n",
    "            if not contains_digit and c.isdigit():\n",
    "                contains_digit = 1\n",
    "\n",
    "        ##### The number of character swaps needed if those types of char is not present\n",
    "        char_swaps =  3 - contains_upper - contains_lower - contains_digit\n",
    "\n",
    "        # check for the repeating char in order to replace\n",
    "        i = 0 ### Pointer 1\n",
    "        j = 1 ### Pointer 2\n",
    "        reps = []\n",
    "\n",
    "        while i < n:\n",
    "            while j < n and password[i] == password[j]:\n",
    "                j += 1 #### Keep incrementing 'j' when you find a repeating character\n",
    "            reps.append(j-i)\n",
    "            #### Swap the values of i, j and increament the j pointer by 1\n",
    "            i = j\n",
    "            j = j + 1\n",
    "\n",
    "        ##### For example, the password : \"a12111\" will have reps = [1, 1, 1, 3]\n",
    "\n",
    "\n",
    "        # To handle the different criteria\n",
    "        if n < 7:\n",
    "            adds = 7 - n ### Number of insertions to be made in general\n",
    "            #### For n < 7 the result is simple maximum between the number of insertions and swaps for characters\n",
    "            \n",
    "            return max(adds, char_swaps)\n",
    "    \n",
    "\n",
    "        elif n <= 25:\n",
    "            #### For n >= 7 and <=25 its the maximum between the repetition swaps and swaps for characters\n",
    "            rep_swaps = sum([val // 3 for val in reps])\n",
    "            \n",
    "            #### If the password has a common word then that has to be swapped as well along with repetitions \n",
    "            if not contains_common_word:\n",
    "                return max(char_swaps, rep_swaps)\n",
    "            else:\n",
    "                return max(char_swaps, rep_swaps + contains_common_word)\n",
    "        else:\n",
    "            #### Find the number of deletions to be done which is affected by the presence of common word in it\n",
    "            deletions = n - 25 - contains_common_word\n",
    "            r = len(reps)\n",
    "\n",
    "            ##### Loop to check if we delete one chracter and number of repetition gets reduced by 1\n",
    "            for i in range(r):\n",
    "                if deletions >= 1 and reps[i] % 3 == 0:\n",
    "                    reps[i] = reps[i] - 1\n",
    "                    deletions = deletions - 1\n",
    "            ##### Check if we need to now do 2 delete to break a repetition\n",
    "            for i in range(r):\n",
    "                if deletions >= 2 and reps[i] % 3 == 1 and reps[i] > 3:\n",
    "                    reps[i] = reps[i] - 2\n",
    "                    deletions = deletions - 2\n",
    "\n",
    "            ##### For rest of the cases like %3 == 2 remove if possible and there is enough deletion left\n",
    "            for i in range(r):\n",
    "                if deletions > 0 and reps[i] > 2:\n",
    "                    remv = min(deletions, reps[i] - 2)\n",
    "                    reps[i] = reps[i] - remv\n",
    "                    deletions = deletions - remv\n",
    "            ### Number of repeat char that needs to be taken care of by swapping since no more deletion can be done\n",
    "            rep_swaps = sum([val // 3 for val in reps])\n",
    "            return max(char_swaps, rep_swaps) + (n - 25)\n"
   ]
  },
  {
   "cell_type": "code",
   "execution_count": 161,
   "id": "595a5832",
   "metadata": {},
   "outputs": [
    {
     "data": {
      "text/plain": [
       "2"
      ]
     },
     "execution_count": 161,
     "metadata": {},
     "output_type": "execute_result"
    }
   ],
   "source": [
    "#### Test case 1\n",
    "\n",
    "obj = Task()\n",
    "obj.strongPasswordCheck(\"aaa11\")"
   ]
  },
  {
   "cell_type": "code",
   "execution_count": 162,
   "id": "6287a9c2",
   "metadata": {},
   "outputs": [
    {
     "data": {
      "text/plain": [
       "3"
      ]
     },
     "execution_count": 162,
     "metadata": {},
     "output_type": "execute_result"
    }
   ],
   "source": [
    "#### Test case 1\n",
    "\n",
    "obj = Task()\n",
    "obj.strongPasswordCheck(\"a111\")"
   ]
  },
  {
   "cell_type": "code",
   "execution_count": 163,
   "id": "aba656f8",
   "metadata": {},
   "outputs": [
    {
     "data": {
      "text/plain": [
       "1"
      ]
     },
     "execution_count": 163,
     "metadata": {},
     "output_type": "execute_result"
    }
   ],
   "source": [
    "#### Test case 2\n",
    "obj = Task()\n",
    "obj.strongPasswordCheck(\"a1122332a11\")"
   ]
  },
  {
   "cell_type": "code",
   "execution_count": 164,
   "id": "8e9fadcc",
   "metadata": {},
   "outputs": [
    {
     "data": {
      "text/plain": [
       "1"
      ]
     },
     "execution_count": 164,
     "metadata": {},
     "output_type": "execute_result"
    }
   ],
   "source": [
    "#### Test case 3\n",
    "obj = Task()\n",
    "obj.strongPasswordCheck(\"a12111\")"
   ]
  },
  {
   "cell_type": "code",
   "execution_count": 165,
   "id": "2e828429",
   "metadata": {},
   "outputs": [
    {
     "data": {
      "text/plain": [
       "8"
      ]
     },
     "execution_count": 165,
     "metadata": {},
     "output_type": "execute_result"
    }
   ],
   "source": [
    "#### Test case 4\n",
    "obj = Task()\n",
    "obj.strongPasswordCheck(\"a12ad1112233iascd33fsef213123111\")"
   ]
  },
  {
   "cell_type": "code",
   "execution_count": 166,
   "id": "59e3bba7",
   "metadata": {},
   "outputs": [
    {
     "data": {
      "text/plain": [
       "7"
      ]
     },
     "execution_count": 166,
     "metadata": {},
     "output_type": "execute_result"
    }
   ],
   "source": [
    "#### Test case 5\n",
    "obj = Task()\n",
    "obj.strongPasswordCheck(\"a12ad1112233iasAd33fsef213123111\")"
   ]
  },
  {
   "cell_type": "code",
   "execution_count": 167,
   "id": "845a9979",
   "metadata": {},
   "outputs": [
    {
     "data": {
      "text/plain": [
       "8"
      ]
     },
     "execution_count": 167,
     "metadata": {},
     "output_type": "execute_result"
    }
   ],
   "source": [
    "#### Test case 6\n",
    "obj = Task()\n",
    "obj.strongPasswordCheck(\"a12111fheufheiascdaafsef21312311\")"
   ]
  },
  {
   "cell_type": "code",
   "execution_count": 168,
   "id": "fd62320c",
   "metadata": {},
   "outputs": [
    {
     "data": {
      "text/plain": [
       "2"
      ]
     },
     "execution_count": 168,
     "metadata": {},
     "output_type": "execute_result"
    }
   ],
   "source": [
    "#### Test case 7\n",
    "obj = Task()\n",
    "obj.strongPasswordCheck(\"112233\")"
   ]
  },
  {
   "cell_type": "code",
   "execution_count": 169,
   "id": "bff017d7",
   "metadata": {},
   "outputs": [
    {
     "data": {
      "text/plain": [
       "2"
      ]
     },
     "execution_count": 169,
     "metadata": {},
     "output_type": "execute_result"
    }
   ],
   "source": [
    "#### Test case 8\n",
    "obj = Task()\n",
    "obj.strongPasswordCheck(\"dubsmash\")"
   ]
  },
  {
   "cell_type": "code",
   "execution_count": 170,
   "id": "6a9e2ce0",
   "metadata": {},
   "outputs": [
    {
     "data": {
      "text/plain": [
       "1"
      ]
     },
     "execution_count": 170,
     "metadata": {},
     "output_type": "execute_result"
    }
   ],
   "source": [
    "#### Test case 9\n",
    "obj = Task()\n",
    "obj.strongPasswordCheck(\"dubsmash1\")"
   ]
  },
  {
   "cell_type": "code",
   "execution_count": 171,
   "id": "11acbbdc",
   "metadata": {},
   "outputs": [
    {
     "data": {
      "text/plain": [
       "0"
      ]
     },
     "execution_count": 171,
     "metadata": {},
     "output_type": "execute_result"
    }
   ],
   "source": [
    "#### Test case 10\n",
    "obj = Task()\n",
    "obj.strongPasswordCheck(\"aAsdD2a11\")"
   ]
  },
  {
   "cell_type": "code",
   "execution_count": 172,
   "id": "2e0a1f0e",
   "metadata": {},
   "outputs": [
    {
     "data": {
      "text/plain": [
       "3"
      ]
     },
     "execution_count": 172,
     "metadata": {},
     "output_type": "execute_result"
    }
   ],
   "source": [
    "#### Test case 11\n",
    "obj = Task()\n",
    "obj.strongPasswordCheck(\"Aa13\")"
   ]
  },
  {
   "cell_type": "code",
   "execution_count": 173,
   "id": "0cf933cf",
   "metadata": {},
   "outputs": [
    {
     "data": {
      "text/plain": [
       "31"
      ]
     },
     "execution_count": 173,
     "metadata": {},
     "output_type": "execute_result"
    }
   ],
   "source": [
    "#### Test case 12\n",
    "obj = Task()\n",
    "obj.strongPasswordCheck(\"aaaaaaaaaaaaaaaaaaaaaaabbbbbbbbbbssssssssssssssss\")"
   ]
  },
  {
   "cell_type": "code",
   "execution_count": 174,
   "id": "39d6119d",
   "metadata": {},
   "outputs": [
    {
     "data": {
      "text/plain": [
       "8"
      ]
     },
     "execution_count": 174,
     "metadata": {},
     "output_type": "execute_result"
    }
   ],
   "source": [
    "#### Test case 13\n",
    "obj = Task()\n",
    "obj.strongPasswordCheck(\"a12141fheufheiascdaafsef21312311\")"
   ]
  },
  {
   "cell_type": "code",
   "execution_count": 175,
   "id": "33a8013e",
   "metadata": {},
   "outputs": [
    {
     "data": {
      "text/plain": [
       "7"
      ]
     },
     "execution_count": 175,
     "metadata": {},
     "output_type": "execute_result"
    }
   ],
   "source": [
    "#### Test case 14\n",
    "obj = Task()\n",
    "obj.strongPasswordCheck(\"a12141fheufhAiascdaafsef22212311\")"
   ]
  },
  {
   "cell_type": "code",
   "execution_count": null,
   "id": "8ca19e1f",
   "metadata": {},
   "outputs": [],
   "source": []
  },
  {
   "cell_type": "code",
   "execution_count": null,
   "id": "1c3aa06c",
   "metadata": {},
   "outputs": [],
   "source": []
  }
 ],
 "metadata": {
  "kernelspec": {
   "display_name": "Python 3",
   "language": "python",
   "name": "python3"
  },
  "language_info": {
   "codemirror_mode": {
    "name": "ipython",
    "version": 3
   },
   "file_extension": ".py",
   "mimetype": "text/x-python",
   "name": "python",
   "nbconvert_exporter": "python",
   "pygments_lexer": "ipython3",
   "version": "3.8.8"
  }
 },
 "nbformat": 4,
 "nbformat_minor": 5
}
